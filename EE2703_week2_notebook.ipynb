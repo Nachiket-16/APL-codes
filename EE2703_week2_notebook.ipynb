{
 "cells": [
  {
   "cell_type": "markdown",
   "id": "1d077f98-2b48-4624-890f-bbcde75b50f8",
   "metadata": {},
   "source": [
    "# Speed of computation\n",
    "\n",
    "Python, being an interpreted language, tends to be slower than compiled languages like C or Fortran.  Some other languages like Java and Julia tend to use Just-in-Time compilation which can give speedups, but Python also has the problem of being dynamically typed, which eliminates the possibility of many optimizations.\n",
    "\n",
    "The `timeit` library provides functions to estimate the time taken to run a piece of code.  It can automatically run the code multiple times to get better average results, and can be used to identify bottlenecks in your program.  However, it should be used with care as it is not a detailed function-call-level profiler.\n",
    "\n",
    "It can either be `import`ed as a module where you can then explicitly called `timeit.timeit(func)` to estimate time for a function, or you can use the *magic syntax* in Python notebooks as shown below.  "
   ]
  },
  {
   "cell_type": "code",
   "execution_count": 1,
   "id": "b04d3acd",
   "metadata": {},
   "outputs": [],
   "source": [
    "import numpy as np\n",
    "x = np.random.rand(10000,1)"
   ]
  },
  {
   "cell_type": "code",
   "execution_count": 2,
   "id": "63c29c38-213f-439e-a7a4-1bc71a6a147b",
   "metadata": {},
   "outputs": [
    {
     "name": "stdout",
     "output_type": "stream",
     "text": [
      "[4906.28843845]\n",
      "15.4 ms ± 1.5 ms per loop (mean ± std. dev. of 7 runs, 100 loops each)\n"
     ]
    }
   ],
   "source": [
    "def sumarr(x):\n",
    "    sum = 0\n",
    "    for i in range(len(x)): \n",
    "    # for i in x:\n",
    "        sum += x[i]\n",
    "    return sum\n",
    "print(sumarr(x))\n",
    "%timeit sumarr(x)"
   ]
  },
  {
   "cell_type": "code",
   "execution_count": 3,
   "id": "3685cabc-ea32-40cf-923d-efacf040bba1",
   "metadata": {},
   "outputs": [
    {
     "name": "stdout",
     "output_type": "stream",
     "text": [
      "4906.288438454178\n",
      "10.1 µs ± 242 ns per loop (mean ± std. dev. of 7 runs, 100,000 loops each)\n"
     ]
    }
   ],
   "source": [
    "import numpy as np\n",
    "def npsumarr(x):\n",
    "    return np.sum(x)\n",
    "print(npsumarr(x))\n",
    "%timeit npsumarr(x)"
   ]
  },
  {
   "cell_type": "markdown",
   "id": "45165b44-8c0e-43ca-a3bb-c1da937c5919",
   "metadata": {},
   "source": [
    "# Solving equations by Gaussian elimination\n",
    "\n",
    "Once you have constructed two matrices A and B to represent the system of linear equations \n",
    "$$ Ax = b $$\n",
    "you can then proceed to solve the equations using the process known as Gaussian elimination.\n",
    "\n",
    "It is assumed you already know how the process works, but to refresh your memory, you could use the reference material at [LibreTexts](https://math.libretexts.org/Bookshelves/Algebra/Book%3A_Algebra_and_Trigonometry_(OpenStax)/11%3A_Systems_of_Equations_and_Inequalities/11.06%3A_Solving_Systems_with_Gaussian_Elimination).\n",
    "\n",
    "Basically it involves making the A matrix *triangular* and ultimately into the shape of an identity matrix."
   ]
  },
  {
   "cell_type": "code",
   "execution_count": 4,
   "id": "2985880d-bf0b-465c-85e6-2b9aa2e036ad",
   "metadata": {},
   "outputs": [
    {
     "name": "stdout",
     "output_type": "stream",
     "text": [
      "[[2, 3], [1, -1]]\n",
      "[6, 0.5]\n"
     ]
    }
   ],
   "source": [
    "# Input matrices - the set of equations - 2 variables x1 and x2\n",
    "A = [ [2,3], [1,-1] ]\n",
    "B = [6,1/2]\n",
    "print(A)\n",
    "print(B)"
   ]
  },
  {
   "cell_type": "code",
   "execution_count": 5,
   "id": "57c201b5-1d27-4bfb-9f65-1075568463b3",
   "metadata": {},
   "outputs": [
    {
     "name": "stdout",
     "output_type": "stream",
     "text": [
      "[[1.0, 1.5], [1, -1]]\n",
      "[3.0, 0.5]\n"
     ]
    }
   ],
   "source": [
    "# Normalize row 1\n",
    "norm = A[0][0]\n",
    "for i in range(len(A[0])): A[0][i] /= norm\n",
    "B[0] = B[0]/norm\n",
    "print(A)\n",
    "print(B)"
   ]
  },
  {
   "cell_type": "code",
   "execution_count": 6,
   "id": "709daa81",
   "metadata": {},
   "outputs": [
    {
     "name": "stdout",
     "output_type": "stream",
     "text": [
      "[[1.0, 1.5], [0.0, -2.5]]\n",
      "[3.0, -2.5]\n"
     ]
    }
   ],
   "source": [
    "for i in range(len(A[1])): \n",
    "    A[1][i] = A[1][i] - A[0][i]\n",
    "B[1] -= B[0]\n",
    "print(A)\n",
    "print(B)"
   ]
  },
  {
   "cell_type": "code",
   "execution_count": 7,
   "id": "02eec543-407f-43ba-b59a-1a9abe46942c",
   "metadata": {},
   "outputs": [
    {
     "name": "stdout",
     "output_type": "stream",
     "text": [
      "[[1.0, 1.5], [0.0, -2.5]]\n",
      "[3.0, -2.5]\n"
     ]
    }
   ],
   "source": [
    "# Eliminate row 2 - A[1] - need to check and ensure div-by-zero etc doesnt happen\n",
    "norm = A[1][0] / A[0][0]\n",
    "for i in range(len(A[1])): A[1][i] = A[1][i] - A[0][i] * norm\n",
    "B[1] = B[1] - B[0] * norm\n",
    "print(A)\n",
    "print(B)"
   ]
  },
  {
   "cell_type": "code",
   "execution_count": 8,
   "id": "e6d17637-4f8d-4b50-b051-f3f95520d5b9",
   "metadata": {},
   "outputs": [
    {
     "name": "stdout",
     "output_type": "stream",
     "text": [
      "[[1.0, 1.5], [-0.0, 1.0]]\n",
      "[3.0, 1.0]\n"
     ]
    }
   ],
   "source": [
    "# Normalize row 2 - B[1] will now contain the solution for x2\n",
    "norm = A[1][1]\n",
    "for i in range(len(A[1])): A[1][i] = A[1][i] / norm\n",
    "B[1] = B[1] / norm\n",
    "print(A)\n",
    "print(B)"
   ]
  },
  {
   "cell_type": "code",
   "execution_count": 9,
   "id": "eae41cdb-dde7-48c4-a93a-3dfa9a9dd3a0",
   "metadata": {},
   "outputs": [
    {
     "name": "stdout",
     "output_type": "stream",
     "text": [
      "[[1.0, 0.0], [-0.0, 1.0]]\n",
      "[1.5, 1.0]\n"
     ]
    }
   ],
   "source": [
    "# Sub back and solve for B[0] <-> x1\n",
    "# This can be seen as eliminating A[0][1]\n",
    "norm = A[0][1] / A[0][0]\n",
    "# note that len(A) will give number of rows\n",
    "for i in range(len(A)): \n",
    "    A[i][1] = A[i][1] - A[i][0] * norm\n",
    "    B[i] = B[i] - A[i][0] * norm\n",
    "print(A)\n",
    "print(B)"
   ]
  },
  {
   "cell_type": "markdown",
   "id": "098cf3af-1055-4131-b7e3-68ee9637939f",
   "metadata": {
    "tags": []
   },
   "source": [
    "## Problems with Gaussian elimination\n",
    "\n",
    "There are several obvious problems with the method outlined here.  These include:\n",
    "\n",
    "- Performance - Python lists are not the most efficient way to store matrices\n",
    "- Zeros: the simple example does not consider a scenario where one of the values on the diagonal may be 0.  Then some shuffling of rows is required.\n",
    "- Numerical stability: there are several *normalization* steps involved, where it is quite possible for the values to blow up out of control if not managed properly.  Usually some kind of pivoting techniques are used to get around these issues."
   ]
  },
  {
   "cell_type": "code",
   "execution_count": 10,
   "id": "2888f5f6-0d58-4252-b15a-cb240ca98c07",
   "metadata": {},
   "outputs": [
    {
     "data": {
      "text/plain": [
       "array([1.5, 1. ])"
      ]
     },
     "execution_count": 10,
     "metadata": {},
     "output_type": "execute_result"
    }
   ],
   "source": [
    "import numpy as np\n",
    "A1 = np.array( [ [2,3], [1,-1] ] )\n",
    "B1 = np.array( [6, 1/2] )\n",
    "np.linalg.solve(A1, B1)"
   ]
  },
  {
   "cell_type": "markdown",
   "id": "986c1d41-e4d1-42aa-a274-227e816cd2d3",
   "metadata": {},
   "source": [
    "# Library functions\n",
    "\n",
    "*Numeric Python* or `numpy` is a library that allows Python code to directly call highly efficient implementations of several linear algebra routines (that have been written and optimized using C or Fortran and generally offer very high performance).\n",
    "\n",
    "Although you can use the same `list` based approach to create matrices, it is better to declare them as the `array` data type:\n",
    "\n",
    "- the numeric `type` (float, int etc.) can be specified for arrays\n",
    "- memory allocation is done more efficiently by assuming they are not meant to be arbitrarily extended or changed"
   ]
  },
  {
   "cell_type": "markdown",
   "id": "140f68a1-0072-4fe3-9dd4-1c946e93b8b5",
   "metadata": {},
   "source": [
    "# SPICE basics\n",
    "\n",
    "Our goal is to implement a SPICE simulator.  In order to do this, we first need to read in the circuit description from a text file.  To start with, we will only consider the basic elements of SPICE: Voltage sources, Current sources, and Resistors.  A typical SPICE netlist would look like this:\n",
    "\n",
    "```spice\n",
    ".circuit\n",
    "R1 GND 1 1  \n",
    "R2 1 2 1    \n",
    "V1 GND 2 dc 2\n",
    ".end\n",
    "```\n",
    "\n",
    "This is basically a *netlist* with 3 *nodes* - one of which is Ground (GND) which is assumed to be have a voltage of 0V.  We can write down Kirchhoff's current law (KCL) equations at each node, to account for current balance.  In addition, we will have some equations that specify the voltages between nodes having a direct voltage source, since there is no resistance there to provide an equation.\n",
    "\n",
    "For the above example, the equations will be\n",
    "\n",
    "$$\n",
    "\\begin{aligned}\n",
    "\\frac{V1-0}{R1} & + & \\frac{V1-V2}{R2} & = & 0 \\\\\n",
    "\\frac{V2-V1}{R2} & + & I1 & = & 0 \\\\\n",
    "V2 & - & 0 & = & 2\n",
    "\\end{aligned}\n",
    "$$\n",
    "\n",
    "which can be written in Matrix form as:\n",
    "\n",
    "$$\n",
    "\\begin{bmatrix}\n",
    "\\frac{1}{R1}+\\frac{1}{R2} & \\frac{-1}{R2} & 0 \\\\\n",
    "\\frac{-1}{R2}   & \\frac{1}{R2}  & 1 \\\\\n",
    "0  & 1  & 0\n",
    "\\end{bmatrix}\n",
    "\\begin{bmatrix}\n",
    "V1 \\\\\n",
    "V2 \\\\\n",
    "I1\n",
    "\\end{bmatrix}\n",
    "=\n",
    "\\begin{bmatrix}\n",
    "0 \\\\\n",
    "0 \\\\\n",
    "2\n",
    "\\end{bmatrix}\n",
    "$$\n",
    "\n",
    "At this point, you have reduced the solving of the SPICE equations to a known problem (linear equation solving) that you already know how to do."
   ]
  },
  {
   "cell_type": "markdown",
   "id": "10067a6c",
   "metadata": {},
   "source": [
    "## AC sources\n",
    "\n",
    "The assumption above is that the system consists only of Voltage or Current sources and resistors.  What about capacitors, inductors, and AC sources?  These can be handled in exactly the same way as long as the circuit is operating at a single frequency.  We then replace the elements with their corresponding *impedance* values, which are frequency dependent complex numbers, but since there is only a single frequency they will still be constants."
   ]
  },
  {
   "cell_type": "markdown",
   "id": "1485d399",
   "metadata": {},
   "source": [
    "## Problem scenarios\n",
    "\n",
    "- Voltage source loops\n",
    "- Current sources at a node\n",
    "- Circuit defined with both DC and AC sources\n",
    "- Syntax errors"
   ]
  },
  {
   "cell_type": "markdown",
   "id": "6d214d59",
   "metadata": {},
   "source": [
    "# String and File manipulation\n",
    "\n",
    "Given a SPICE netlist like the one above, you need to *read* it and construct an internal matrix as described above.  For string manipulation, there are a few helpful utility functions that we can see here."
   ]
  },
  {
   "cell_type": "code",
   "execution_count": 11,
   "id": "0d0f9ed2",
   "metadata": {},
   "outputs": [
    {
     "name": "stdout",
     "output_type": "stream",
     "text": [
      "Found a resistor\n",
      "Found a resistor\n",
      "Found a voltage source with value:  2.0\n"
     ]
    }
   ],
   "source": [
    "circ = \"\"\".circuit\n",
    "R1 GND 1 1  \n",
    "R2 1 2 1    \n",
    "V1 GND 2 dc 2\n",
    ".end\n",
    "\"\"\".splitlines()\n",
    "for l in circ:\n",
    "    if l[0] == 'R':\n",
    "        print(\"Found a resistor\")\n",
    "    elif l[0] == 'V':\n",
    "        print(\"Found a voltage source with value: \", float(l.split()[4]))"
   ]
  },
  {
   "cell_type": "markdown",
   "id": "18d4c59c",
   "metadata": {},
   "source": [
    "## Files\n",
    "\n",
    "You can read from a file using the `readlines()` method of file objects.  One thing to keep in mind is how you open and close file objects.  In particular, it is strongly recommended to use the pattern `with open(\"filename\") as f:` to ensure that the file is closed once you are done with reading it.  "
   ]
  },
  {
   "cell_type": "markdown",
   "id": "5b45ec84",
   "metadata": {},
   "source": [
    "# Assignment\n",
    "\n",
    "The following are the problems you need to solve for this assignment.  You need to submit your code (either as standalone Python script or a Python notebook), a PDF document explaining your solution (either generated from the notebook or a separate LaTeX document), and any supporting files you may have (such as circuit netlists you used for testing your code).\n",
    "\n",
    "- Write a function to find the factorial of N (N being an input) and find the time taken to compute it.  This will obviously depend on where you run the code and which approach you use to implement the factorial.  Explain your observations briefly.\n",
    "- Write a linear equation solver that will take in matrices $A$ and $b$ as inputs, and return the vector $x$ that solves the equation $Ax=b$.  Your function should catch errors in the inputs and return suitable error messages for different possible problems.\n",
    "  - Time your solver to solve a random $10\\times 10$ system of equations.  Compare the time taken against the `numpy.linalg.solve` function for the same inputs.\n",
    "- Given a circuit netlist in the form described above, read it in from a file, construct the appropriate matrices, and use the solver you have written above to obtain the voltages and currents in the circuit.  If you find AC circuits hard to handle, first do this for pure DC circuits, but you should be able to handle both voltage and current sources.\n",
    "\n",
    "## Bonus assignments\n",
    "\n",
    "- (Small bonus): after reading in the netlist, allow some or all sources and impedances to be controlled interactively - either using widgets or other mechanisms.  On each change you should recompute the currents and voltages and display them.\n",
    "- (Large bonus): make a solver that can do real-time transient simulations of a SPICE netlist and update the currents and voltages dynamically.  They should also be plotted as a function of time and react to changes.  This is something along the lines of https://www.falstad.com/circuit/.  Ideally you should be able to do a real-time demo of some experiments you might conduct as part of a basic electronics lab, and simulate the behaviour of an oscilloscope and signal generator."
   ]
  },
  {
   "cell_type": "markdown",
   "id": "b5edc231",
   "metadata": {},
   "source": [
    "# 1) Function to find Factorial of a Number"
   ]
  },
  {
   "cell_type": "markdown",
   "id": "99b503e3",
   "metadata": {},
   "source": [
    "## Method 1"
   ]
  },
  {
   "cell_type": "code",
   "execution_count": 13,
   "id": "b03e524d",
   "metadata": {},
   "outputs": [
    {
     "name": "stdout",
     "output_type": "stream",
     "text": [
      "1307674368000\n",
      "1.57 µs ± 27.7 ns per loop (mean ± std. dev. of 7 runs, 1,000,000 loops each)\n"
     ]
    }
   ],
   "source": [
    "#function to find Factorial (method 1)\n",
    "def fact(x):\n",
    "    try:\n",
    "        if type(x) is not int:\n",
    "            raise TypeError\n",
    "        elif x<0:\n",
    "            raise ValueError\n",
    "        else:\n",
    "            fact = 1\n",
    "            for i in range(x):\n",
    "                fact *= i+1\n",
    "            return fact\n",
    "    except ValueError:\n",
    "        print(\"The number should be a non negative integer\")\n",
    "    except TypeError:\n",
    "        print(\"The number is not an integer\")\n",
    "        \n",
    "        \n",
    "num = 15\n",
    "print(fact(num))\n",
    "%timeit fact(num)     "
   ]
  },
  {
   "cell_type": "markdown",
   "id": "2053fdcc",
   "metadata": {},
   "source": [
    "## Method 2"
   ]
  },
  {
   "cell_type": "code",
   "execution_count": 14,
   "id": "ff61226d",
   "metadata": {},
   "outputs": [
    {
     "name": "stdout",
     "output_type": "stream",
     "text": [
      "1307674368000\n",
      "1.58 µs ± 31.3 ns per loop (mean ± std. dev. of 7 runs, 1,000,000 loops each)\n"
     ]
    }
   ],
   "source": [
    "#function to find Factorial (method 2)\n",
    "def fact2(x):\n",
    "    if x == 1:\n",
    "        return 1\n",
    "    else:\n",
    "        return x*fact2(x-1)\n",
    "    \n",
    "num = 15\n",
    "print(fact2(num))\n",
    "%timeit fact(num)"
   ]
  },
  {
   "cell_type": "markdown",
   "id": "328fd719",
   "metadata": {},
   "source": [
    "## Method 3"
   ]
  },
  {
   "cell_type": "code",
   "execution_count": 15,
   "id": "6d86c245",
   "metadata": {},
   "outputs": [
    {
     "name": "stdout",
     "output_type": "stream",
     "text": [
      "1307674368000\n",
      "129 ns ± 2.77 ns per loop (mean ± std. dev. of 7 runs, 10,000,000 loops each)\n"
     ]
    }
   ],
   "source": [
    "#function to Find Factorial(method 3)\n",
    "import math\n",
    "num = 15\n",
    "print(math.factorial(num))\n",
    "%timeit math.factorial(num)"
   ]
  },
  {
   "cell_type": "markdown",
   "id": "26b9649c",
   "metadata": {},
   "source": [
    "##  Explaination for Factorial\n",
    "\n",
    "1. In method 1 and 2 we use the iterative approach and recursive approach.  \n",
    "\n",
    "\n",
    "2. Method 1 is more efficient (time complexity) compared to the recursive one because each call to the recursive function requires additional memory allocation on the call stack, which leads to stack overflow for large numbers.  \n",
    "\n",
    "\n",
    "3. Method 3 is the best of all three as it makes use of a pre-written function from the `math` module as its short and pretty effective."
   ]
  },
  {
   "cell_type": "markdown",
   "id": "83d38544",
   "metadata": {},
   "source": [
    "# 2) Linear Equation Solver"
   ]
  },
  {
   "cell_type": "code",
   "execution_count": 12,
   "id": "a1b4776c",
   "metadata": {},
   "outputs": [],
   "source": [
    "def swap(A,b,n):\n",
    "    for i in range(n):\n",
    "        pivot = i\n",
    "        for j in range(i + 1, n):\n",
    "            if abs(A[j][i]) > abs(A[pivot][i]):\n",
    "                pivot = j\n",
    "        A[i], A[pivot] = A[pivot], A[i]\n",
    "        b[i], b[pivot] = b[pivot], b[i]\n",
    "    return A,b"
   ]
  },
  {
   "cell_type": "markdown",
   "id": "ab3079da",
   "metadata": {},
   "source": [
    "### swap():\n",
    "- This Function is used if we have any zeros present in our input matrices\n",
    "\n",
    "- What this function simply does is , swaps all the zeros at higher row to the lowest row"
   ]
  },
  {
   "cell_type": "code",
   "execution_count": 13,
   "id": "98e2eaf0",
   "metadata": {},
   "outputs": [],
   "source": [
    "def upper_tri(A,b,n):\n",
    "    for j in range(n): \n",
    "        for i in range(j+1,n):\n",
    "            try: #check whether we have zerodivision error or not\n",
    "                c=A[i][j]/A[j][j] # the normalizing coefficient\n",
    "                for k in range(1,n):\n",
    "                    # we use the Ri = Ri - c*Rj \n",
    "                    A[i][k]=A[i][k]-c*A[j][k] \n",
    "                b[i] = b[i] - c*b[j] \n",
    "  \n",
    "            except:\n",
    "                if b[i] == 0: \n",
    "                    print(\"The given input has infinite solutions!!\")\n",
    "                    return None\n",
    "                else:\n",
    "                    print(\"The given input has no solutions!!\")\n",
    "                    return None\n",
    "    return A,b"
   ]
  },
  {
   "cell_type": "markdown",
   "id": "36538ac6",
   "metadata": {},
   "source": [
    "### upper_tri():\n",
    "- This function converts the matrix into a Upper Triangular Matrix"
   ]
  },
  {
   "cell_type": "code",
   "execution_count": 14,
   "id": "c96a9cb2",
   "metadata": {},
   "outputs": [],
   "source": [
    "def back_sub(A,b,n):\n",
    "    res = [0 for i in range(n)]  # will contain the result of linear equations\n",
    "    try:\n",
    "        res[n-1] = b[n-1]/A[n-1][n-1]\n",
    "        for i in range(n-2,-1,-1):\n",
    "            sum=0\n",
    "            for j in range(i+1,n):\n",
    "                sum=sum+A[i][j]*res[j]\n",
    "            res[i]=(b[i]-sum)/A[i][i]\n",
    "        \n",
    "        return res\n",
    "    \n",
    "    except:\n",
    "        if b[n-1] == 0:\n",
    "            print(\"The given input has infinite solutions!!\")\n",
    "            return None\n",
    "        else:\n",
    "            print(\"The given input has no solutions!!\")\n",
    "            return None\n",
    "        "
   ]
  },
  {
   "cell_type": "markdown",
   "id": "db925dcd",
   "metadata": {},
   "source": [
    "### back_sub():\n",
    "- Since, we got the upper triangular matrix we have * A[n-1][n-1]*x[n-1] = b[n-1] *\n",
    "- We substitute this value in the above and calculate x[n-2] and this process goes on which is known as Back Substitution"
   ]
  },
  {
   "cell_type": "code",
   "execution_count": 15,
   "id": "90d33739",
   "metadata": {},
   "outputs": [
    {
     "name": "stdout",
     "output_type": "stream",
     "text": [
      "[[0.47448388695241417, 0.2041634846014062, 0.05699431205152228, 0.17498636174679305, 0.766901020496318, 0.10735737186352112, 0.2287928014025309, 0.45954730317065495, 0.9402613821502219, 0.8004278828180754], [0.05548618900555058, 0.22207212497999818, 0.19062188206075836, 0.8055927107360945, 0.3775200579524711, 0.674251554120961, 0.003929509380733109, 0.8968486663526132, 0.5796759015067047, 0.43870790210768085], [0.955260452789197, 0.3419634286872486, 0.11320172859222821, 0.7498059604661421, 0.5445208247376384, 0.8475625014449806, 0.5032930054756436, 0.36695505113933324, 0.970559236426275, 0.14035966056833016], [0.701435274567604, 0.648521091748773, 0.5704261445995655, 0.9496425582063033, 0.9296014550023229, 0.04740584217803068, 0.8881503880455436, 0.994961502257062, 0.906376651984974, 0.8634411634385456], [0.8758367519061785, 0.40590060327711375, 0.1731727690252236, 0.849048081613678, 0.4415554013804145, 0.7135291946564815, 0.09839705039786695, 0.7685779578845735, 0.4139704641192936, 0.10762023062439008], [0.9044081547737975, 0.9365003097086458, 0.8790538190005556, 0.5759842521202191, 0.5172042819461599, 0.2174928790925591, 0.03784051070112571, 0.6910986454727371, 0.5592853791325082, 0.9420534485622126], [0.7297953532258691, 0.059557297793585096, 0.3302773283600088, 0.07880744444379162, 0.37284228642698203, 0.7867755450998338, 0.933317540128323, 0.21255882831415784, 0.017771762460133456, 0.16386290700621786], [0.9108910902384304, 0.8613339783977288, 0.5129631227896304, 0.8684010206183831, 0.7611244553835883, 0.8172400559901468, 0.35475513211448395, 0.826276337143152, 0.4446757494182312, 0.9337843749734812], [0.9079429888408782, 0.20480691693636277, 0.403900495971134, 0.6514788227809007, 0.9109243608474503, 0.5383985763633641, 0.034676343660855036, 0.6848224290724386, 0.5431436699328904, 0.30763649634936563], [0.7159041757423851, 0.7554154677646094, 0.3962387703855611, 0.053506603095487826, 0.16321281419691758, 0.008241838916214772, 0.4848812475438533, 0.49613427709546754, 0.21619021822616702, 0.8558783268177473]] \n",
      "\n",
      "[0.16158942139342913, 0.6423346892202896, 0.06878607918839108, 0.3696892788545778, 0.27669556979453014, 0.21637441815928105, 0.2376071148653085, 0.4800423290125453, 0.026211040334450653, 0.3279834579428773]\n",
      "\n",
      "[1.3839802133143264, -3.388584876763006, -0.15074656134121375, 2.4522973685266036, -2.3101356382951335, -0.31968370148583647, 0.03273083126905467, -0.562618980674261, -0.6439329830618369, 3.0467505130332113]\n",
      "103 µs ± 2 µs per loop (mean ± std. dev. of 7 runs, 10,000 loops each)\n"
     ]
    }
   ],
   "source": [
    "import random\n",
    "def gauss_elim(A,b,n):\n",
    "    swap(A,b,n)\n",
    "    upper_tri(A,b,n)\n",
    "    result = back_sub(A,b,n)\n",
    "    return result\n",
    "    \n",
    "       \n",
    "A1 = A = np.random.rand(10,10)\n",
    "b1 = b = np.random.rand(10)\n",
    "n = len(A)\n",
    "A=A.tolist()\n",
    "b=b.tolist()\n",
    "print(A,'\\n')\n",
    "print(b)\n",
    "\n",
    "try:\n",
    "    for i in range(len(A)): #check for sqaure matrix\n",
    "        if len(A) != len(A[i]):\n",
    "            raise TypeError\n",
    "            \n",
    "    if len(A) != len(b): #check for same dimensions of both matrices\n",
    "        raise TypeError\n",
    "    \n",
    "    for i in range(len(A)):\n",
    "        for j in range(len(A)):\n",
    "            float(A[i][j])\n",
    "    print()\n",
    "    print(gauss_elim(A,b,n))\n",
    "        \n",
    "except TypeError:\n",
    "    print(\"The matrix does not have proper dimensions!!\")\n",
    "except ValueError:\n",
    "    print(\"The input given is a string!!\")\n",
    "    \n",
    "%timeit gauss_elim(A,b,n)"
   ]
  },
  {
   "cell_type": "code",
   "execution_count": 16,
   "id": "99ab7562",
   "metadata": {},
   "outputs": [
    {
     "name": "stdout",
     "output_type": "stream",
     "text": [
      "[ 1.38398021 -3.38858488 -0.15074656  2.45229737 -2.31013564 -0.3196837\n",
      "  0.03273083 -0.56261898 -0.64393298  3.04675051]\n",
      "7.15 µs ± 204 ns per loop (mean ± std. dev. of 7 runs, 100,000 loops each)\n"
     ]
    }
   ],
   "source": [
    "print(np.linalg.solve(A1,b1))\n",
    "%timeit np.linalg.solve(A1,b1)"
   ]
  },
  {
   "cell_type": "markdown",
   "id": "23360d00",
   "metadata": {},
   "source": [
    "# 3) Solving a Circuit Netlist"
   ]
  },
  {
   "cell_type": "code",
   "execution_count": 17,
   "id": "bdb50079",
   "metadata": {},
   "outputs": [],
   "source": [
    "import math\n",
    "def finding_elements(lines):\n",
    "    elements = []\n",
    "    for i in lines:\n",
    "        if i.startswith('.current'): \n",
    "            #For not going through any junk if present in the file\n",
    "            continue\n",
    "        if i.startswith('.end'): \n",
    "            #Only checking between '.circuit' and '.end' of the file\n",
    "            break\n",
    "        if i.startswith('I'):  #to check for Current Source\n",
    "            items = i.strip().split(\" \")\n",
    "            if items[3] == 'ac':\n",
    "                elements.append(['I',(items[1]),(items[2]),(items[3]),float(items[4]), float(items[5])])\n",
    "            else:\n",
    "                elements.append(['I',(items[1]),(items[2]),(items[3]),float(items[4])])\n",
    "\n",
    "        if i.startswith('V'): #to check for Voltage source\n",
    "            items = i.strip().split(\" \")\n",
    "            if items[3] == 'ac':\n",
    "                elements.append(['V',(items[1]),(items[2]),(items[3]),float(items[4]) , float(items[5])])\n",
    "            else:\n",
    "                elements.append(['V',(items[1]),(items[2]),(items[3]),float(items[4])])\n",
    "\n",
    "        if i.startswith('R'): #to check for Resistor\n",
    "            items = i.strip().split(\" \")\n",
    "            elements.append(['R',(items[1]),(items[2]),float(items[3])])\n",
    "\n",
    "        if i.startswith('L'): #to check for Inductor\n",
    "            items = i.strip().split(\" \")\n",
    "            elements.append(['L',(items[1]),(items[2]),float(items[3])])\n",
    "\n",
    "        if i.startswith('C'): #to check for Capacitor\n",
    "            items = i.strip().split(\" \")\n",
    "            elements.append(['C',(items[1]),(items[2]),float(items[3])])\n",
    "\n",
    "    return elements\n",
    "    "
   ]
  },
  {
   "cell_type": "markdown",
   "id": "d23415b3",
   "metadata": {},
   "source": [
    "### finding_elements():\n",
    "- This function takes the lines read from the file as argument.\n",
    "\n",
    "- We first create a empty list of elements where we will append all the information about the circuit.\n",
    "\n",
    "- To check for each componnent we use the `.startswith()` method to check whether the line has info about resistor, capacitor, etc.\n",
    "\n",
    "- By using the `.strip.split()` method we append all the information of the components and `return elements`."
   ]
  },
  {
   "cell_type": "code",
   "execution_count": 18,
   "id": "2bc2a585",
   "metadata": {},
   "outputs": [],
   "source": [
    "def nodes_mapping(elements):\n",
    "    n=len(elements)\n",
    "    map1={}\n",
    "    map2={}\n",
    "    p=1\n",
    "    for i in range(n):\n",
    "        #Since the nodes are present at element[i][1] and element[i][2]\n",
    "        for j in range(1,3): \n",
    "            element=elements[i][j]\n",
    "            if(element=='GND'):\n",
    "                elements[i][j] = 0\n",
    "                continue\n",
    "            if(element in map1.keys()): \n",
    "                elements[i][j]=map1[element]\n",
    "            if(element not in map1.keys()):\n",
    "                #If node is not in map1 we have element as key and give int(p) as its value\n",
    "                map1[element]=int(p)\n",
    "                #Same as above, only difference is the key and value pairs are changed\n",
    "                map2[int(p)]=element\n",
    "                elements[i][j]=int(p)\n",
    "                p+=1\n",
    "    return(map2)"
   ]
  },
  {
   "cell_type": "markdown",
   "id": "e36c444e",
   "metadata": {},
   "source": [
    "### nodes_mapping():\n",
    "- This Function is used to write all the nodes in a sequence\n",
    "\n",
    "- We use a dictionary to map all the nodes we have by passing `elements` as the argument to the function\n"
   ]
  },
  {
   "cell_type": "code",
   "execution_count": 19,
   "id": "f2b0818b",
   "metadata": {},
   "outputs": [],
   "source": [
    "def readfile(file_name):\n",
    "    lines = file_name.readlines()\n",
    "    for i in lines:\n",
    "        print(i)\n",
    "    return lines"
   ]
  },
  {
   "cell_type": "markdown",
   "id": "be52607b",
   "metadata": {},
   "source": [
    "### readfile():\n",
    "- readfile() function takes file_name(a file) as an argument and print each line of the file "
   ]
  },
  {
   "cell_type": "code",
   "execution_count": 23,
   "id": "9ae75943",
   "metadata": {},
   "outputs": [],
   "source": [
    "def ac_freq(lines):\n",
    "    freq = 0\n",
    "    for i in lines:\n",
    "        items = i.strip().split(\" \")\n",
    "        if i.startswith('.ac'):\n",
    "            freq = 2*math.pi*float(items[2])\n",
    "    return freq\n",
    "\n",
    "freq = ac_freq(lines)"
   ]
  },
  {
   "cell_type": "markdown",
   "id": "fb384da4",
   "metadata": {},
   "source": [
    "### ac_freq():\n",
    "- This function is used for checking whether we have a dc or ac source .\n",
    "\n",
    "- And if we have, then it checks the `3rd string` of the line which starts with '.ac' .\n",
    "\n",
    "- Finally we find the `angular frequency` which is 2π*frequency and return it."
   ]
  },
  {
   "cell_type": "code",
   "execution_count": 24,
   "id": "6b3c0ab0",
   "metadata": {},
   "outputs": [],
   "source": [
    "def total_nodes(elements):\n",
    "    nodes = []\n",
    "    voltage_sources = 0\n",
    "    for element in elements:\n",
    "        nodes.append(element[1])\n",
    "        nodes.append(element[2])\n",
    "        if element[0].startswith(\"V\"):\n",
    "            voltage_sources+= 1\n",
    "\n",
    "    max_node = max(nodes)\n",
    "            \n",
    "    dim_matrix = max_node + voltage_sources\n",
    "    return dim_matrix , voltage_sources"
   ]
  },
  {
   "cell_type": "markdown",
   "id": "47ee8ff9",
   "metadata": {},
   "source": [
    "### total_nodes():\n",
    "- By iterating each element of the list elements which we got using `finding_elements()` function.\n",
    "\n",
    "- We append each node from the elements list in a list called nodes.\n",
    "\n",
    "- Then, we check for the voltage sources to take into account the current which goes through independent voltage sources.\n",
    "\n",
    "- Finally, we find the maximum value of the node using the max() function and consider the dimensions of the matrix to be max_node + voltage_sources.\n"
   ]
  },
  {
   "cell_type": "code",
   "execution_count": 25,
   "id": "6e6ca3d0",
   "metadata": {},
   "outputs": [],
   "source": [
    "def matrix_formation(rank_matrix):\n",
    "    A = [[0 for j in range(rank_matrix)] for i in range(rank_matrix)]\n",
    "    b = [0 for j in range(rank_matrix)]\n",
    "    return A,b"
   ]
  },
  {
   "cell_type": "markdown",
   "id": "7c4f6d01",
   "metadata": {},
   "source": [
    "### matrix_formation():\n",
    "- This function simply creates a `n x n` matrix and a `n x 1` matrix by finding n using the total_nodes() function which has all its elements initialised to zero"
   ]
  },
  {
   "cell_type": "code",
   "execution_count": 26,
   "id": "ab42e71a",
   "metadata": {},
   "outputs": [],
   "source": [
    "def equation_maker(elements , dim , vs):\n",
    "    for element in elements:             \n",
    "        if element[0] == 'V': #check for voltage source\n",
    "            if len(element) == 6:\n",
    "                # This means we have a AC source and thus change the value of voltage\n",
    "                volt = abs(element[4])*(math.cos(freq+element[5])+math.sin(freq+element[5]))\n",
    "            else:\n",
    "                # This means we have a DC source\n",
    "                volt = element[4]\n",
    "            \n",
    "            i = element[1] - 1\n",
    "            j = element[2] - 1\n",
    "            # i and j are defined to use in adding values to specified row and column\n",
    "            if i == -1:   A[j][dim] -= 1 \n",
    "            #if ith node is ground we take -1 as coefficient of I(ind. source current)\n",
    "            elif j == -1:  A[i][dim] += 1\n",
    "            #if jth node is ground we take +1 as coefficient of I(ind. source current)\n",
    "            else:\n",
    "                A[i][dim] += 1\n",
    "                A[j][dim] -= 1\n",
    "                b[j] += volt\n",
    "            for n in range(vs): \n",
    "            #iterate through all voltage sources and add its values to the rows containing sources\n",
    "                if i == -1:  \n",
    "            #if ith node is ground we take +1 as for the coefficient of node j\n",
    "                    A[dim + n][j] = 1 \n",
    "                    b[dim + n] += volt\n",
    "                elif j == -1: \n",
    "            #if jth node is ground we take +1 as for the coefficient of node i\n",
    "                    A[dim + n][i] = 1\n",
    "                    b[dim + n] += volt\n",
    "                else:\n",
    "                    A[dim + n][i] -= 1\n",
    "                    A[dim + n][j] += 1\n",
    "                    b[dim + n] += volt\n",
    "        \n",
    "        if element[0] == 'I':\n",
    "            if len(element) == 6:\n",
    "                amp = abs(element[4])*(math.cos(freq+element[5])+math.sin(freq+element[5]))\n",
    "            else:\n",
    "                amp = element[4]\n",
    "            i = element[1] - 1\n",
    "            j = element[2] - 1 \n",
    "            # assuming current is leaving i node we add -amp to the b matrix\n",
    "            if i == -1:   b[j] -= amp\n",
    "            # assuming current is entering j node we add +amp to the b matrix\n",
    "            elif j == -1:  b[i] += amp\n",
    "            else:\n",
    "                b[j] -= amp\n",
    "                b[i] += amp\n",
    "                \n",
    "                   \n",
    "        if element[0] == 'R':\n",
    "            imp = element[3]\n",
    "            i = element[1] - 1\n",
    "            j = element[2] - 1\n",
    "        #if ith node is ground we take +1/imp as for the coefficient of node j\n",
    "            if i == -1:   A[j][j]+=1/imp\n",
    "        #if jth node is ground we take +1/imp as for the coefficient of node i\n",
    "            elif j == -1: A[i][i]+=1/imp\n",
    "            else:\n",
    "                A[i][i] += 1/imp\n",
    "                A[i][j] -= 1/imp\n",
    "                A[j][j] += 1/imp\n",
    "                A[j][i] -= 1/imp\n",
    "                \n",
    "        if element[0] == 'C':\n",
    "            imp = 1/(1j*freq*element[3])\n",
    "            # Since the impedennce of capacitance is 1/jWC\n",
    "            i = element[1] - 1\n",
    "            j = element[2] - 1\n",
    "            if i == -1:  A[j][j] += 1/imp\n",
    "            elif j == -1: A[i][i] += 1/imp\n",
    "            else:\n",
    "                A[i][i] += 1/imp\n",
    "                A[i][j] -= 1/imp\n",
    "                A[j][j] += 1/imp\n",
    "                A[j][i] -= 1/imp\n",
    "                \n",
    "        if element[0] == 'L':\n",
    "            imp = 1j*element[3]*freq\n",
    "            # Since the impedence of inductor is jWL\n",
    "            i = element[1] - 1\n",
    "            j = element[2] - 1\n",
    "            if i == -1:  A[j][j]+= 1/imp\n",
    "            elif j == -1: A[i][i]+= 1/imp\n",
    "            else:\n",
    "                A[i][i] += 1/imp\n",
    "                A[i][j] -= 1/imp\n",
    "                A[j][j] += 1/imp\n",
    "                A[j][i] -= 1/imp\n",
    "                \n",
    "            \n",
    "    return A,b"
   ]
  },
  {
   "cell_type": "markdown",
   "id": "80146c9c",
   "metadata": {},
   "source": [
    "### equation_maker():\n",
    "- We first take elements, dim , vs as arguments. \n",
    "\n",
    "- `dim , vs` are the total nodes and voltage sources of the circuit.\n",
    "\n",
    "- We add the coefficients of the eqautions formed by the voltage sources and also add the coefficients of currents in\n",
    "the corresponding nodes.\n",
    "\n",
    "- Finally for the impedence, we check for ground and check for each node and write the coefficients of the equations\n",
    "in the matrix for those corresponding nodes.\n",
    "\n",
    "- Finally, we return the matrix `A, b`"
   ]
  },
  {
   "cell_type": "code",
   "execution_count": 30,
   "id": "7cb8b7e1",
   "metadata": {},
   "outputs": [
    {
     "name": "stdout",
     "output_type": "stream",
     "text": [
      ".circuit\n",
      "\n",
      "R1 GND 1 1e3\n",
      "\n",
      "R2 1 2 4e3\n",
      "\n",
      "R3 2 GND 20e3\n",
      "\n",
      "R4 2 3 8e3\n",
      "\n",
      "R5 GND 4 10e3\n",
      "\n",
      "V1 GND 4 dc 5\n",
      "\n",
      ".end\n",
      "\n"
     ]
    }
   ],
   "source": [
    "netlist = open('ckt1.netlist', 'r')\n",
    "lines = readfile(netlist) "
   ]
  },
  {
   "cell_type": "code",
   "execution_count": 31,
   "id": "30bfda71",
   "metadata": {},
   "outputs": [
    {
     "name": "stdout",
     "output_type": "stream",
     "text": [
      "['R', 'GND', '1', 1000.0]\n",
      "['R', '1', '2', 4000.0]\n",
      "['R', '2', 'GND', 20000.0]\n",
      "['R', '2', '3', 8000.0]\n",
      "['R', 'GND', '4', 10000.0]\n",
      "['V', 'GND', '4', 'dc', 5.0]\n",
      "\n",
      "\n",
      "[0.00125, -0.00025, 0, 0, 0]\n",
      "[-0.00025, 0.00042500000000000003, -0.000125, 0, 0]\n",
      "[0, -0.000125, 0.000125, 0, 0]\n",
      "[0, 0, 0, 0.0001, -1]\n",
      "[0, 0, 0, 1, 0]\n",
      "\n",
      "[0, 0, 0, 0, 5.0] \n",
      "\n"
     ]
    }
   ],
   "source": [
    "elements = finding_elements(lines) \n",
    "for element in elements:   print(element)\n",
    "print()\n",
    "\n",
    "nodes_mapping(elements)    \n",
    "dim , voltage_sources = total_nodes(elements)\n",
    "nodes = dim - voltage_sources\n",
    "\n",
    "print()\n",
    "A,b = matrix_formation(dim)\n",
    "A,b = equation_maker(elements, nodes , voltage_sources)\n",
    "for a in A: print(a)\n",
    "print()\n",
    "print(f'{b} \\n')"
   ]
  },
  {
   "cell_type": "code",
   "execution_count": 32,
   "id": "33ad06ea",
   "metadata": {},
   "outputs": [
    {
     "name": "stdout",
     "output_type": "stream",
     "text": [
      "[0.0, 0.0, 0.0, 5.0, 0.0005]\n",
      "20.8 µs ± 1.26 µs per loop (mean ± std. dev. of 7 runs, 100,000 loops each)\n"
     ]
    }
   ],
   "source": [
    "print(gauss_elim( A, b , len(A)))\n",
    "%timeit gauss_elim(A,b,len(A))"
   ]
  },
  {
   "cell_type": "markdown",
   "id": "6346139c",
   "metadata": {},
   "source": [
    "### Note:\n",
    "- Here, I have assumed if we go from node 1 to node 2, node 1 is assumed to have higher voltage and node 2 to have lower \n",
    "voltage.\n",
    "\n",
    "- Hence , +1/imp is given to node 1 and -1/imp is given to node 2\n",
    "\n",
    "- Similarly for Current , current going out of node 1 is assumed to be positive and current entering node 2 is assumed to \n",
    "be of negative sign"
   ]
  },
  {
   "cell_type": "code",
   "execution_count": null,
   "id": "8fa55115",
   "metadata": {},
   "outputs": [],
   "source": []
  }
 ],
 "metadata": {
  "kernelspec": {
   "display_name": "Python 3 (ipykernel)",
   "language": "python",
   "name": "python3"
  },
  "language_info": {
   "codemirror_mode": {
    "name": "ipython",
    "version": 3
   },
   "file_extension": ".py",
   "mimetype": "text/x-python",
   "name": "python",
   "nbconvert_exporter": "python",
   "pygments_lexer": "ipython3",
   "version": "3.10.8"
  },
  "vscode": {
   "interpreter": {
    "hash": "135c9c029983d30fe2c25215b219c39403965bc9bf9257a46b5d1e1e22d97d61"
   }
  }
 },
 "nbformat": 4,
 "nbformat_minor": 5
}
