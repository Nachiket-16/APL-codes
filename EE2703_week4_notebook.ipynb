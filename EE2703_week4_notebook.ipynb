{
 "cells": [
  {
   "cell_type": "markdown",
   "id": "c3b331ea",
   "metadata": {},
   "source": [
    "# Reading Netlist"
   ]
  },
  {
   "cell_type": "code",
   "execution_count": 1,
   "id": "e0f346bb",
   "metadata": {},
   "outputs": [
    {
     "name": "stdout",
     "output_type": "stream",
     "text": [
      "g51 nand2 n_3 n_0 N22\n",
      "\n",
      "g52 nand2 n_3 n_2 N23\n",
      "\n",
      "g53 nand2 n_1 N2 n_3\n",
      "\n",
      "g54 nand2 n_1 N7 n_2\n",
      "\n",
      "g55 nand2 N1 N3 n_0\n",
      "\n",
      "g56 nand2 N3 N6 n_1\n",
      "\n"
     ]
    }
   ],
   "source": [
    "def read_file(file):\n",
    "    lines = file.readlines()\n",
    "    for i in lines:\n",
    "        print(i) \n",
    "    return lines\n",
    "\n",
    "\n",
    "file_name1 = open(\"c17.net\",'r')\n",
    "file_name2 = open(\"c8.net\",'r')\n",
    "file_name3 = open(\"c432.net\",'r')\n",
    "file_name4 = open(\"parity.net\",'r')\n",
    "\n",
    "lines = read_file(file_name1)"
   ]
  },
  {
   "cell_type": "markdown",
   "id": "c537d0e1",
   "metadata": {},
   "source": [
    "Here , I have Read the netlist given to us.\n",
    "One of the example i have considered is c_17 netlist"
   ]
  },
  {
   "cell_type": "code",
   "execution_count": 2,
   "id": "541628fd",
   "metadata": {},
   "outputs": [
    {
     "name": "stdout",
     "output_type": "stream",
     "text": [
      "N1 N2 N3 N6 N7 \n",
      "\n",
      "0 1 0 0 0\n",
      "\n",
      "0 0 1 0 0\n",
      "\n",
      "1 0 0 0 0\n",
      "\n",
      "0 0 1 1 1\n",
      "\n",
      "1 1 1 1 1\n",
      "\n",
      "1 1 1 0 0\n",
      "\n",
      "1 1 1 1 0\n",
      "\n",
      "1 1 0 0 0\n",
      "\n",
      "0 1 1 0 1\n",
      "\n",
      "0 0 1 1 0\n",
      "\n"
     ]
    }
   ],
   "source": [
    "file_input1 = open(\"c17.inputs\",'r')\n",
    "file_input2 = open(\"c8.inputs\",'r')\n",
    "file_input3 = open(\"c432.inputs\",'r')\n",
    "file_input4 = open(\"parity.inputs\",'r')\n",
    "lines2 = read_file(file_input1) #reading the file\n",
    "file_inputs = {} #a empty dictionary to store all input data\n",
    "test_cases = 0 #to check how many tests we have in file"
   ]
  },
  {
   "cell_type": "markdown",
   "id": "a53dc494",
   "metadata": {},
   "source": [
    "Same as above , I have read the states of the nets given for that corresponding netlist"
   ]
  },
  {
   "cell_type": "markdown",
   "id": "c7c19f0e",
   "metadata": {},
   "source": [
    "# Generating Inputs"
   ]
  },
  {
   "cell_type": "code",
   "execution_count": 3,
   "id": "dc062aea",
   "metadata": {},
   "outputs": [
    {
     "name": "stdout",
     "output_type": "stream",
     "text": [
      "{'N1': ['0', '0', '1', '0', '1', '1', '1', '1', '0', '0'], 'N2': ['1', '0', '0', '0', '1', '1', '1', '1', '1', '0'], 'N3': ['0', '1', '0', '1', '1', '1', '1', '0', '1', '1'], 'N6': ['0', '0', '0', '1', '1', '0', '1', '0', '0', '1'], 'N7': ['0', '0', '0', '1', '1', '0', '0', '0', '1', '0']} \n",
      "\n",
      "Number of test cases:  10\n"
     ]
    }
   ],
   "source": [
    "def making_inputs(lines):\n",
    "    for i in lines: \n",
    "        keys = i.strip().split() #creating a list of all input variables\n",
    "        break\n",
    "\n",
    "    n = len(keys)\n",
    "    for i in range(n):\n",
    "        file_inputs[keys[i]] = [] #creating a empty list for given key \n",
    "\n",
    "    for j in range(n): # a loop to store each corresponding input to that input id\n",
    "        for i in lines:\n",
    "            if i.startswith(\"0\") or i.startswith(\"1\"):\n",
    "                word = i.strip().split()\n",
    "                file_inputs[keys[j]].append(word[j])\n",
    "                test_cases = len(file_inputs[keys[j]])\n",
    "\n",
    "    return test_cases\n",
    "\n",
    "tests = making_inputs(lines2)\n",
    "print(file_inputs , \"\\n\") # creating a dictionary where each test case is taken in the list\n",
    "print(f\"Number of test cases: \" , tests) "
   ]
  },
  {
   "cell_type": "markdown",
   "id": "40a082b4",
   "metadata": {},
   "source": [
    "## making_inputs():\n",
    "- This function is used to create a dictionary where each key contains all the states given in the input file as shown above"
   ]
  },
  {
   "cell_type": "markdown",
   "id": "668a37e4",
   "metadata": {},
   "source": [
    "# Getting Gates Info"
   ]
  },
  {
   "cell_type": "code",
   "execution_count": 4,
   "id": "b9f83714",
   "metadata": {},
   "outputs": [
    {
     "name": "stdout",
     "output_type": "stream",
     "text": [
      "{'g51': {'type': 'nand2', 'inputs': ['n_3', 'n_0'], 'output': 'N22'}, 'g52': {'type': 'nand2', 'inputs': ['n_3', 'n_2'], 'output': 'N23'}, 'g53': {'type': 'nand2', 'inputs': ['n_1', 'N2'], 'output': 'n_3'}, 'g54': {'type': 'nand2', 'inputs': ['n_1', 'N7'], 'output': 'n_2'}, 'g55': {'type': 'nand2', 'inputs': ['N1', 'N3'], 'output': 'n_0'}, 'g56': {'type': 'nand2', 'inputs': ['N3', 'N6'], 'output': 'n_1'}}\n"
     ]
    }
   ],
   "source": [
    "def gate_data(lines):\n",
    "    gates = {} # a dictionary to store all info about the nets and gate\n",
    "    gate_attribute = {}\n",
    "    # Loop over each line in the file\n",
    "    for line in lines:\n",
    "        words = line.strip().split() # Split the line into words\n",
    "        # Extract the gate ID, type, inputs, and output\n",
    "        gate_id = words[0]\n",
    "        gate_type = words[1]\n",
    "        inputs = words[2:-1]\n",
    "        output = words[-1]\n",
    "        gates[gate_id] = {'type': gate_type, 'inputs': inputs, 'output': output}\n",
    "        gate_attribute[output] = gate_type\n",
    "    return gates , gate_attribute #for checking which gate is connected to output\n",
    "    \n",
    "gates , gate_attribute = gate_data(lines)\n",
    "print(gates)"
   ]
  },
  {
   "cell_type": "markdown",
   "id": "3289fbc1",
   "metadata": {},
   "source": [
    "## gate_data():\n",
    "- This Function takes lines of the netlist as argument . \n",
    "\n",
    "\n",
    "- using the line.strip().split() we have used to find the gate_id , gate_type , input and output of the given gate id.\n",
    "\n",
    "\n",
    "- All this information is stored in a dictionary gates  whose key is gate id and its value is adictionary which contains the type , inputs and output\n",
    "\n",
    "\n",
    "- Also one more dictionary is used gate_attribute to check what gate type is connected to the output\n",
    "\n",
    "\n",
    "- This dictionary contains output as key and gate type as value"
   ]
  },
  {
   "cell_type": "markdown",
   "id": "2c01869a",
   "metadata": {},
   "source": [
    "# Creating Topological Order"
   ]
  },
  {
   "cell_type": "code",
   "execution_count": 5,
   "id": "eb4f353e",
   "metadata": {},
   "outputs": [
    {
     "name": "stdout",
     "output_type": "stream",
     "text": [
      "['N2', 'N7', 'N1', 'N3', 'N6', 'n_0', 'n_1', 'n_3', 'n_2', 'N22', 'N23']\n"
     ]
    }
   ],
   "source": [
    "import networkx as nx # create a DAG\n",
    "\n",
    "# create an empty directed graph\n",
    "G = nx.DiGraph()\n",
    "\n",
    "# iterate over each line in the netlist\n",
    "for key, value in gates.items():\n",
    "    # store the dictionary into its components\n",
    "    gate_id = key\n",
    "    \n",
    "    gate_type = value['type']\n",
    "    \n",
    "    if len(value['inputs'])== 2:\n",
    "        input1 , input2 = value['inputs'][0] , value['inputs'][1]\n",
    "    else:\n",
    "        input1 = value['inputs'][0]\n",
    "        input2 = None\n",
    "        \n",
    "    output = value['output']\n",
    "    \n",
    "    # add the gate as a node to the graph\n",
    "    nx.set_node_attributes(G,gate_attribute,name=\"gate_type\")\n",
    "    # add edges for each input and output connection\n",
    "    if input1 not in G.nodes():\n",
    "        G.add_node(input1)\n",
    "    G.add_edge(input1, output)\n",
    "    \n",
    "    if input2 is not None:\n",
    "        if input2 not in G.nodes():\n",
    "            G.add_node(input2)\n",
    "        G.add_edge(input2, output)\n",
    "    \n",
    "    if output not in G.nodes():\n",
    "        G.add_node(output)\n",
    "\n",
    "    if(nx.is_directed_acyclic_graph(G)==True):\n",
    "        pass\n",
    "    else:\n",
    "        print(\"Error!\")\n",
    "        print(\"The given gate connections form a cycle.\")\n",
    "        print(\"Terminating.\")\n",
    "# get the topological order of the graph\n",
    "topological_order = list(nx.topological_sort(G))\n",
    "print(topological_order)\n",
    "\n",
    "#print('Successors of node N3 :', list(G.successors(\"N3\"))) # find children of a node\n",
    "#print('Parents of node n_0 :',list(G.predecessors(\"n_0\"))) # find parents of node"
   ]
  },
  {
   "cell_type": "markdown",
   "id": "997ac703",
   "metadata": {},
   "source": [
    "## DAG maker:\n",
    "- G.add_edge connects the input to the output \n",
    "\n",
    "\n",
    "- G.add_node adds a node in the list \n",
    "\n",
    "\n",
    "- Using the attribute nx.topological_sort we find the topological order of the given netlist\n",
    "\n",
    "\n",
    "- By this we can tell which are the parents of the net and which are the children  of the net"
   ]
  },
  {
   "cell_type": "code",
   "execution_count": 6,
   "id": "a85829a1",
   "metadata": {},
   "outputs": [],
   "source": [
    "def nandgate(a, b): #to find output for NAND gate\n",
    "    return 2 + ~(a & b)\n",
    "\n",
    "def orgate(a, b): #to find output for OR gate\n",
    "    return (a | b)\n",
    "\n",
    "def andgate(a, b): #to find output for AND gate\n",
    "    return (a & b)\n",
    "\n",
    "def norgate(a, b): #to find output for NOR gate\n",
    "    return 2 + ~(a | b)\n",
    "\n",
    "def xorgate(a, b): #to find output for XOR gate\n",
    "    return (a ^ b)\n",
    "\n",
    "def xnorgate(a, b): #to find output for XNOR gate\n",
    "    return 2 + ~(a ^ b)\n",
    "\n",
    "def invgate(a): #to find output for NOT gate\n",
    "    return 2 + ~(a)\n",
    "\n",
    "def bufgate(a): #to find output for Buffer gate\n",
    "    return a"
   ]
  },
  {
   "cell_type": "markdown",
   "id": "1d30644a",
   "metadata": {},
   "source": [
    "## Gates output Calculator:\n",
    "- Basic functions for finding the output of a AND , NAND , XOR gates , etc are used"
   ]
  },
  {
   "cell_type": "code",
   "execution_count": 7,
   "id": "18500d10",
   "metadata": {},
   "outputs": [],
   "source": [
    "def gate_solver(x , key , node , inputs):\n",
    "    if len(key) == 2: #check for 2 inputs\n",
    "        a = key[0]\n",
    "        b = key[1]\n",
    "    else: c = key[0] #check for 1 input\n",
    "        \n",
    "    if node == 'nand2':    \n",
    "        x = nandgate(int(inputs[a]) , int(inputs[b]))\n",
    "    if node == 'and2':    \n",
    "        x = andgate(int(inputs[a]) , int(inputs[b]))\n",
    "    if node == 'nor2':    \n",
    "        x = norgate(int(inputs[a]) , int(inputs[b]))\n",
    "    if node == 'or2':    \n",
    "        x = orgate(int(inputs[a]) , int(inputs[b]))\n",
    "    if node == 'xnor2':    \n",
    "        x = xnorgate(int(inputs[a]) , int(inputs[b]))\n",
    "    if node == 'xor2':    \n",
    "        x = xorgate(int(inputs[a]) , int(inputs[b]))\n",
    "    if node == 'inv':    \n",
    "        x = invgate(int(inputs[c]))\n",
    "            \n",
    "    return x"
   ]
  },
  {
   "cell_type": "markdown",
   "id": "e40ae5c5",
   "metadata": {},
   "source": [
    "## Gate_solver():\n",
    "- This function takes inputs as argument which is a dictionary which will tell us the final output and which contains all nets with some initial value\n",
    "\n",
    "- Then we check what gatetype is connected to the output(x) using the argument node \n",
    "\n",
    "- FInally by using the basic gates functions we return the output"
   ]
  },
  {
   "cell_type": "code",
   "execution_count": 8,
   "id": "54e2cba9",
   "metadata": {},
   "outputs": [],
   "source": [
    "def topological_sort(output , to , gates):\n",
    "    l1 = len(list(file_inputs.keys())) #to not consider the primary inputs\n",
    "    n = len(to) \n",
    "    for i in range(l1 , n):\n",
    "        key = list(G.predecessors(to[i])) #get all predecessors of the net\n",
    "        node = gate_attribute[to[i]]\n",
    "        inputs[to[i]] = gate_solver(inputs[to[i]] , key , node , inputs)\n",
    "        \n",
    "    return inputs\n"
   ]
  },
  {
   "cell_type": "markdown",
   "id": "05b4b035",
   "metadata": {},
   "source": [
    "## Topological_sort():\n",
    "- This is our main function which finds the states of all the nets using the gates dictionary and the topological order"
   ]
  },
  {
   "cell_type": "code",
   "execution_count": 9,
   "id": "f551625c",
   "metadata": {},
   "outputs": [
    {
     "name": "stdout",
     "output_type": "stream",
     "text": [
      "{'N2': 0, 'N7': 0, 'N1': 0, 'N3': 0, 'N6': 0, 'n_0': 0, 'n_1': 0, 'n_3': 0, 'n_2': 0, 'N22': 0, 'N23': 0}\n"
     ]
    }
   ],
   "source": [
    "inputs ={}\n",
    "to = list(nx.topological_sort(G))\n",
    "for i in to:\n",
    "    inputs[i] = 0\n",
    "print(inputs)"
   ]
  },
  {
   "cell_type": "markdown",
   "id": "20ef4e9a",
   "metadata": {},
   "source": [
    "Initialise all the net states to zero"
   ]
  },
  {
   "cell_type": "code",
   "execution_count": 10,
   "id": "7361b468",
   "metadata": {
    "scrolled": false
   },
   "outputs": [],
   "source": [
    "output_file = open(\"c17_output\" , 'w') #write file in c17_output\n",
    "for k in range(tests):\n",
    "    for i in to:\n",
    "        inputs[i] = 0      \n",
    "    for key in file_inputs.keys():\n",
    "        if list(inputs.keys()).count(key):\n",
    "            inputs[key] = int(file_inputs[key][k]) #initialise the inputs\n",
    "    inputs = topological_sort(inputs , to ,  gates) \n",
    "    alpha_output = dict(sorted(inputs.items(), reverse=False)) #sort the dictionary in alphabetical order\n",
    "    l2 = list(alpha_output.keys()) \n",
    "    if(k==0):\n",
    "        for i in l2:\n",
    "            output_file.write(f'{str(i)} ') #List of all nets in the circuit\n",
    "        output_file.write(\"\\n\")\n",
    "    for i in l2:\n",
    "        output_file.write(f\"{str(alpha_output[i])} \") #List of states for input vector k\n",
    "    output_file.write(\"\\n\")\n",
    "        \n",
    "output_file.close() #closing a file"
   ]
  },
  {
   "cell_type": "markdown",
   "id": "42e8bb3c",
   "metadata": {},
   "source": [
    "Here , we iterate through the test cases and change the inputs initial states . FInally , the dictionary Inputs which we get is sorted in alphabetical order using the sorted algorithm . And then it is written in the file c17_output in the format as mentioned in the assignment"
   ]
  },
  {
   "cell_type": "markdown",
   "id": "768a75dc",
   "metadata": {},
   "source": [
    "# Method 2 : Event-driven evaluation"
   ]
  },
  {
   "cell_type": "code",
   "execution_count": 11,
   "id": "39c1bffd",
   "metadata": {},
   "outputs": [],
   "source": [
    "import queue\n",
    "# create a queue\n",
    "my_queue = queue.Queue()"
   ]
  },
  {
   "cell_type": "code",
   "execution_count": 12,
   "id": "c9fec3ab",
   "metadata": {},
   "outputs": [
    {
     "name": "stdout",
     "output_type": "stream",
     "text": [
      "{'N2': None, 'N7': None, 'N1': None, 'N3': None, 'N6': None, 'n_0': None, 'n_1': None, 'n_3': None, 'n_2': None, 'N22': None, 'N23': None}\n"
     ]
    }
   ],
   "source": [
    "dict1 ={}\n",
    "to = list(nx.topological_sort(G))\n",
    "for i in to:\n",
    "    dict1[i] = None\n",
    "print(dict1)"
   ]
  },
  {
   "cell_type": "markdown",
   "id": "2a026575",
   "metadata": {},
   "source": [
    "A dictionary is created in this case where all the nnets are initialised to some arbitrary value such as None"
   ]
  },
  {
   "cell_type": "code",
   "execution_count": 13,
   "id": "57eb798c",
   "metadata": {
    "scrolled": false
   },
   "outputs": [],
   "source": [
    "def event_driven(my_queue , dict1 , dict2 = None):\n",
    "    while not my_queue.empty():\n",
    "        key = my_queue.get()\n",
    "        a = list(G.successors(key))\n",
    "        for succ in a:\n",
    "            my_queue.put(succ)\n",
    "            p = list(G.predecessors(succ))\n",
    "            try:\n",
    "                node =  gate_attribute[succ]\n",
    "                dict1[succ] = gate_solver(dict1[succ] , p , node , dict1)\n",
    "                if dict2[succ] != dict1[succ]:\n",
    "                    dict2[succ] = dict1[succ]\n",
    "            except:\n",
    "                pass\n",
    "    return "
   ]
  },
  {
   "cell_type": "markdown",
   "id": "0ebe73c3",
   "metadata": {},
   "source": [
    "## Event_driven():\n",
    "- In this function first we iterate through the queue untill the queue becomes empty\n",
    "\n",
    "\n",
    "- Then we find the successors of a particular element of the key \n",
    "\n",
    "\n",
    "- After this, the successors are added in the queue and the parents of that successor are poped out\n"
   ]
  },
  {
   "cell_type": "code",
   "execution_count": 14,
   "id": "9670ce71",
   "metadata": {},
   "outputs": [
    {
     "name": "stdout",
     "output_type": "stream",
     "text": [
      "{'N1': '0', 'N2': '1', 'N22': 1, 'N23': 1, 'N3': '0', 'N6': '0', 'N7': '0', 'n_0': 1, 'n_1': 1, 'n_2': 1, 'n_3': 0}\n"
     ]
    }
   ],
   "source": [
    "for key in file_inputs.keys():\n",
    "    count = 0\n",
    "    dict1[key] = file_inputs[key][0]\n",
    "    n = list(file_inputs.keys())\n",
    "    if  count < len(n):\n",
    "        my_queue.put(key)\n",
    "    count += 1\n",
    "    \n",
    "event_driven(my_queue , dict1)\n",
    "dict2 = dict1.copy()\n",
    "alpha = dict(sorted(dict1.items(), reverse=False))\n",
    "print(alpha) "
   ]
  },
  {
   "cell_type": "code",
   "execution_count": 15,
   "id": "ed413b05",
   "metadata": {},
   "outputs": [
    {
     "name": "stdout",
     "output_type": "stream",
     "text": [
      "{'N2': '1', 'N7': '0', 'N1': '0', 'N3': '0', 'N6': '0', 'n_0': 1, 'n_1': 1, 'n_3': 0, 'n_2': 1, 'N22': 1, 'N23': 1}\n",
      "{'N2': '0', 'N7': '0', 'N1': '0', 'N3': '1', 'N6': '0', 'n_0': 1, 'n_1': 1, 'n_3': 1, 'n_2': 1, 'N22': 0, 'N23': 0}\n",
      "{'N2': '0', 'N7': '0', 'N1': '1', 'N3': '0', 'N6': '0', 'n_0': 1, 'n_1': 1, 'n_3': 1, 'n_2': 1, 'N22': 0, 'N23': 0}\n",
      "{'N2': '0', 'N7': '1', 'N1': '0', 'N3': '1', 'N6': '1', 'n_0': 1, 'n_1': 0, 'n_3': 1, 'n_2': 1, 'N22': 0, 'N23': 0}\n",
      "{'N2': '1', 'N7': '1', 'N1': '1', 'N3': '1', 'N6': '1', 'n_0': 0, 'n_1': 0, 'n_3': 1, 'n_2': 1, 'N22': 1, 'N23': 0}\n",
      "{'N2': '1', 'N7': '0', 'N1': '1', 'N3': '1', 'N6': '0', 'n_0': 0, 'n_1': 1, 'n_3': 0, 'n_2': 1, 'N22': 1, 'N23': 1}\n",
      "{'N2': '1', 'N7': '0', 'N1': '1', 'N3': '1', 'N6': '1', 'n_0': 0, 'n_1': 0, 'n_3': 1, 'n_2': 1, 'N22': 1, 'N23': 0}\n",
      "{'N2': '1', 'N7': '0', 'N1': '1', 'N3': '0', 'N6': '0', 'n_0': 1, 'n_1': 1, 'n_3': 0, 'n_2': 1, 'N22': 1, 'N23': 1}\n",
      "{'N2': '1', 'N7': '1', 'N1': '0', 'N3': '1', 'N6': '0', 'n_0': 1, 'n_1': 1, 'n_3': 0, 'n_2': 0, 'N22': 1, 'N23': 1}\n",
      "{'N2': '0', 'N7': '0', 'N1': '0', 'N3': '1', 'N6': '1', 'n_0': 1, 'n_1': 0, 'n_3': 1, 'n_2': 1, 'N22': 0, 'N23': 0}\n"
     ]
    }
   ],
   "source": [
    "print(dict1)\n",
    "for i in range(1 , tests):\n",
    "    dict2 = dict1.copy()\n",
    "    for key in file_inputs.keys():\n",
    "        count = 0\n",
    "        dict1[key] = file_inputs[key][i]\n",
    "        n = list(file_inputs.keys())\n",
    "        if  count < len(n):\n",
    "            my_queue.put(key)\n",
    "        count += 1\n",
    "        event_driven(my_queue , dict1 , dict2)\n",
    "    print(dict1)"
   ]
  },
  {
   "cell_type": "code",
   "execution_count": 16,
   "id": "441dd573",
   "metadata": {},
   "outputs": [],
   "source": [
    "event_driven(my_queue , dict1)\n",
    "dict2 = dict1.copy()\n",
    "alpha = dict(sorted(dict1.items(), reverse=False))\n",
    "\n",
    "output_file = open(\"c17_output_queue\" , 'w') #write file in c17_output\n",
    "lp = list(alpha.keys())\n",
    "for i in lp:\n",
    "    output_file.write(f'{str(i)} ') #List of all nets in the circuit\n",
    "output_file.write(\"\\n\")\n",
    "    \n",
    "for i in lp:\n",
    "    output_file.write(f'{str(alpha[i])} ')\n",
    "output_file.write(f'\\n')\n",
    "\n",
    "\n",
    "for k in range(1 , tests):\n",
    "    dict2 = dict1.copy()\n",
    "    for key in file_inputs.keys():\n",
    "        count = 0\n",
    "        dict1[key] = file_inputs[key][k]\n",
    "        n = list(file_inputs.keys())\n",
    "        if  count < len(n):\n",
    "            my_queue.put(key)\n",
    "        count += 1\n",
    "        event_driven(my_queue , dict1 , dict2)\n",
    "    alpha = dict(sorted(dict1.items(), reverse=False))\n",
    "    for i in lp:\n",
    "        output_file.write(f'{str(alpha[i])} ')\n",
    "    output_file.write(f'\\n')\n",
    "    \n",
    "output_file.close()\n"
   ]
  },
  {
   "cell_type": "markdown",
   "id": "db74b10e",
   "metadata": {},
   "source": [
    "- In this Code , firstly we create a copy of the initial dictionary which we acquired . Then we use this dictionnary to compare the outputs of the new dictionary which is made for each test case.\n",
    "\n",
    "- After the resulting dictionary is obtained we sort it using the sorted() function , and then we write it in the file using the write() function and close the file"
   ]
  },
  {
   "cell_type": "code",
   "execution_count": 17,
   "id": "10947d43",
   "metadata": {},
   "outputs": [
    {
     "name": "stdout",
     "output_type": "stream",
     "text": [
      "10.8 µs ± 440 ns per loop (mean ± std. dev. of 7 runs, 100,000 loops each)\n",
      "727 ns ± 24.1 ns per loop (mean ± std. dev. of 7 runs, 1,000,000 loops each)\n"
     ]
    }
   ],
   "source": [
    "%timeit topological_sort(inputs , to ,  gates)\n",
    "%timeit event_driven(my_queue , dict1 , dict2)"
   ]
  },
  {
   "cell_type": "markdown",
   "id": "30c26ad6",
   "metadata": {},
   "source": [
    "# Conclusion"
   ]
  },
  {
   "cell_type": "markdown",
   "id": "fa20d23d",
   "metadata": {},
   "source": [
    "- As seen by the time it operations it can be seen as the topological method is faster than the queuing method in terms of solving and taking down the values for all the states which are present in the logic gate circuit. It can be seen from the inputs that topological sort with multiple rounds of circuit evaluations may be more efficient for small and simple circuits, while event-driven simulation using queues may be more efficient for larger and more complex circuits.\n",
    "\n",
    "- As can be seen, topological sort requires an initial pass to determine the order of the nodes, followed by multiple rounds of circuit evaluations to determine the output values of the gates. The number of rounds required is determined by the depth of circuit that is the number of levels of states which are present in the circuit. Topological sort can be very efficient for small circuits with few gates, but for larger circuits, the number of rounds can become a heck as it will start calculating output for start as each new level comes into play. As just imagine we are calculating output for level 100, it will start from level 1 come to level 99 and then it will evaluate results for level 100 which is a lot of time taking process.\n",
    "\n",
    "- Event-driven simulation with queues, on the other hand, can handle circuits of any size and complexity, but requires a more neat implementation. Each gate is represented as an event that is added to a queue when its inputs change. When an event is processed, the gate's output value is calculated, and events for its successor gates are added to the queue when there is a change in event because the logic is if input gate changes there is a high possibility that the output might chage. Because it only processes events that are affected by input changes rather than computing all gates in each round, this approach can be very efficient for large circuits with many gates and high nodes. \n",
    "\n",
    "- In summary, both approaches have advantages and disadvantages, and the choice depends on the specific problem and the characteristics of the input data."
   ]
  }
 ],
 "metadata": {
  "kernelspec": {
   "display_name": "Python 3 (ipykernel)",
   "language": "python",
   "name": "python3"
  },
  "language_info": {
   "codemirror_mode": {
    "name": "ipython",
    "version": 3
   },
   "file_extension": ".py",
   "mimetype": "text/x-python",
   "name": "python",
   "nbconvert_exporter": "python",
   "pygments_lexer": "ipython3",
   "version": "3.10.8"
  }
 },
 "nbformat": 4,
 "nbformat_minor": 5
}
